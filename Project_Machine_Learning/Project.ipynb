{
 "cells": [
  {
   "cell_type": "code",
   "execution_count": 31,
   "id": "0ec88de6-15f8-4b9b-a2b1-c8b9f953fc13",
   "metadata": {},
   "outputs": [],
   "source": [
    "#Import 'load_iris' to load the dataset\n",
    "from sklearn.datasets import load_iris\n",
    "\n",
    "#import numpy to perform mathematical operation\n",
    "import numpy as np\n",
    "\n",
    "#import matplotlib to visualize the data\n",
    "import matplotlib.pyplot as plt\n"
   ]
  },
  {
   "cell_type": "code",
   "execution_count": 35,
   "id": "369e2052-1d79-438a-a726-5026363d8dac",
   "metadata": {},
   "outputs": [
    {
     "name": "stdout",
     "output_type": "stream",
     "text": [
      "Line number : 150\n",
      "Row number : 4\n",
      "First few row of the dataset : \n",
      "Sample 1: [5.1 3.5 1.4 0.2]\n",
      "Sample 2: [4.9 3.  1.4 0.2]\n",
      "Sample 3: [4.7 3.2 1.3 0.2]\n",
      "Sample 4: [4.6 3.1 1.5 0.2]\n",
      "Sample 5: [5.  3.6 1.4 0.2]\n",
      "Number of Features  4\n",
      "\n",
      " Row Features  : \n",
      "- sepal length (cm)\n",
      "- sepal width (cm)\n",
      "- petal length (cm)\n",
      "- petal width (cm)\n",
      "\n",
      "Statistical Analysis :\n",
      "Feature 0 :\n",
      "Mean : 5.843333333333334\n",
      "Standard deviation :  0.8253012917851409\n",
      "Maximum :  7.9\n",
      "Minimum :  4.3\n",
      "Feature 1 :\n",
      "Mean : 3.0573333333333337\n",
      "Standard deviation :  0.4344109677354946\n",
      "Maximum :  4.4\n",
      "Minimum :  2.0\n",
      "Feature 2 :\n",
      "Mean : 3.7580000000000005\n",
      "Standard deviation :  1.759404065775303\n",
      "Maximum :  6.9\n",
      "Minimum :  1.0\n",
      "Feature 3 :\n",
      "Mean : 1.1993333333333336\n",
      "Standard deviation :  0.7596926279021594\n",
      "Maximum :  2.5\n",
      "Minimum :  0.1\n"
     ]
    },
    {
     "data": {
      "image/png": "[encoded data removed]",
      "text/plain": [
       "<Figure size 640x480 with 1 Axes>"
      ]
     },
     "metadata": {},
     "output_type": "display_data"
    }
   ],
   "source": [
    "#data exploration\n",
    "iris = load_iris()\n",
    "\n",
    "features = iris.data\n",
    "feature_names = iris.feature_names\n",
    "\n",
    "#--------------------------------\n",
    "#Initial Analysis\n",
    "print(\"Line number :\",features.shape[0])\n",
    "print(\"Row number :\",features.shape[1])\n",
    "print(\"First few row of the dataset : \")\n",
    "for i in range(5):\n",
    "    print(\"Sample \" + str(i + 1) + \": \" + str(features[i]))\n",
    "print(\"Number of Features \",len(feature_names))\n",
    "print(\"\\n Row Features  : \")\n",
    "for name in feature_names:\n",
    "    print(\"- \" + name)\n",
    "\n",
    "#--------------------------------\n",
    "#Statistical Analysis\n",
    "print(\"\\nStatistical Analysis :\")\n",
    "for i in range(len(feature_names)):\n",
    "    feature_column = features[:, i]\n",
    "    print(\"Feature \"+str(i)+\" :\")\n",
    "    mean = np.mean(feature_column)\n",
    "    print(\"Mean : \"+ str(mean))\n",
    "    deviation = np.std(feature_column)\n",
    "    print(\"Standard deviation : \",str(deviation))\n",
    "    max_F = np.max(feature_column)\n",
    "    print(\"Maximum : \",str(max_F))\n",
    "    min_F = np.min(feature_column)\n",
    "    print(\"Minimum : \",str(min_F))\n",
    "    \n",
    "#--------------------------------\n",
    "#Visualization\n",
    "target = iris.target\n",
    "target_names = iris.target_names\n",
    "\n",
    "for i in range(features.shape[1]):  \n",
    "    plt.hist(features[:, i])\n",
    "   \n",
    "    "
   ]
  },
  {
   "cell_type": "code",
   "execution_count": null,
   "id": "a719337c-e867-4001-bb17-e2393c8bc69e",
   "metadata": {},
   "outputs": [],
   "source": []
  }
 ],
 "metadata": {
  "kernelspec": {
   "display_name": "Python 3 (ipykernel)",
   "language": "python",
   "name": "python3"
  },
  "language_info": {
   "codemirror_mode": {
    "name": "ipython",
    "version": 3
   },
   "file_extension": ".py",
   "mimetype": "text/x-python",
   "name": "python",
   "nbconvert_exporter": "python",
   "pygments_lexer": "ipython3",
   "version": "3.11.3"
  }
 },
 "nbformat": 4,
 "nbformat_minor": 5
}
